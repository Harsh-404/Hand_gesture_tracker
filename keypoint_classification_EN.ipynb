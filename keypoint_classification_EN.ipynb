{
 "cells": [
  {
   "cell_type": "code",
   "execution_count": 1,
   "metadata": {
    "id": "igMyGnjE9hEp"
   },
   "outputs": [],
   "source": [
    "import csv\n",
    "\n",
    "import numpy as np\n",
    "import tensorflow as tf\n",
    "from sklearn.model_selection import train_test_split\n",
    "\n",
    "RANDOM_SEED = 42"
   ]
  },
  {
   "cell_type": "markdown",
   "metadata": {
    "id": "t2HDvhIu9hEr"
   },
   "source": [
    "# Specify each path"
   ]
  },
  {
   "cell_type": "code",
   "execution_count": 2,
   "metadata": {
    "id": "9NvZP2Zn9hEy"
   },
   "outputs": [],
   "source": [
    "dataset = 'model/keypoint_classifier/keypoint.csv'\n",
    "model_save_path = 'model/keypoint_classifier/keypoint_classifier.hdf5'\n",
    "tflite_save_path = 'model/keypoint_classifier/keypoint_classifier.tflite'"
   ]
  },
  {
   "cell_type": "markdown",
   "metadata": {
    "id": "s5oMH7x19hEz"
   },
   "source": [
    "# Set number of classes"
   ]
  },
  {
   "cell_type": "code",
   "execution_count": 3,
   "metadata": {
    "id": "du4kodXL9hEz"
   },
   "outputs": [],
   "source": [
    "NUM_CLASSES = 29"
   ]
  },
  {
   "cell_type": "markdown",
   "metadata": {
    "id": "XjnL0uso9hEz"
   },
   "source": [
    "# Dataset reading"
   ]
  },
  {
   "cell_type": "code",
   "execution_count": 4,
   "metadata": {
    "id": "QT5ZqtEz9hE0"
   },
   "outputs": [],
   "source": [
    "X_dataset = np.loadtxt(dataset, delimiter=',', dtype='float32', usecols=list(range(1, (21 * 2) + 1)))"
   ]
  },
  {
   "cell_type": "code",
   "execution_count": 5,
   "metadata": {
    "id": "QmoKFsp49hE0"
   },
   "outputs": [],
   "source": [
    "y_dataset = np.loadtxt(dataset, delimiter=',', dtype='int32', usecols=(0))"
   ]
  },
  {
   "cell_type": "code",
   "execution_count": 6,
   "metadata": {
    "id": "xQU7JTZ_9hE0"
   },
   "outputs": [],
   "source": [
    "X_train, X_test, y_train, y_test = train_test_split(X_dataset, y_dataset, train_size=0.75, random_state=RANDOM_SEED)"
   ]
  },
  {
   "cell_type": "markdown",
   "metadata": {
    "id": "mxK_lETT9hE0"
   },
   "source": [
    "# Model building"
   ]
  },
  {
   "cell_type": "code",
   "execution_count": 7,
   "metadata": {
    "id": "vHBmUf1t9hE1"
   },
   "outputs": [],
   "source": [
    "model = tf.keras.models.Sequential([\n",
    "    tf.keras.layers.Input((21 * 2, )),\n",
    "    tf.keras.layers.Dropout(0.2),\n",
    "    tf.keras.layers.Dense(20, activation='relu'),\n",
    "    tf.keras.layers.Dropout(0.4),\n",
    "    tf.keras.layers.Dense(10, activation='relu'),\n",
    "    tf.keras.layers.Dense(NUM_CLASSES, activation='softmax')\n",
    "])"
   ]
  },
  {
   "cell_type": "code",
   "execution_count": 8,
   "metadata": {
    "colab": {
     "base_uri": "https://localhost:8080/"
    },
    "id": "ypqky9tc9hE1",
    "outputId": "5db082bb-30e3-4110-bf63-a1ee777ecd46"
   },
   "outputs": [
    {
     "name": "stdout",
     "output_type": "stream",
     "text": [
      "Model: \"sequential\"\n",
      "_________________________________________________________________\n",
      " Layer (type)                Output Shape              Param #   \n",
      "=================================================================\n",
      " dropout (Dropout)           (None, 42)                0         \n",
      "                                                                 \n",
      " dense (Dense)               (None, 20)                860       \n",
      "                                                                 \n",
      " dropout_1 (Dropout)         (None, 20)                0         \n",
      "                                                                 \n",
      " dense_1 (Dense)             (None, 10)                210       \n",
      "                                                                 \n",
      " dense_2 (Dense)             (None, 29)                319       \n",
      "                                                                 \n",
      "=================================================================\n",
      "Total params: 1,389\n",
      "Trainable params: 1,389\n",
      "Non-trainable params: 0\n",
      "_________________________________________________________________\n"
     ]
    }
   ],
   "source": [
    "model.summary()  # tf.keras.utils.plot_model(model, show_shapes=True)"
   ]
  },
  {
   "cell_type": "code",
   "execution_count": 9,
   "metadata": {
    "id": "MbMjOflQ9hE1"
   },
   "outputs": [],
   "source": [
    "# Model checkpoint callback\n",
    "cp_callback = tf.keras.callbacks.ModelCheckpoint(\n",
    "    model_save_path, verbose=1, save_weights_only=False)\n",
    "# Callback for early stopping\n",
    "es_callback = tf.keras.callbacks.EarlyStopping(patience=20, verbose=1)"
   ]
  },
  {
   "cell_type": "code",
   "execution_count": 10,
   "metadata": {
    "id": "c3Dac0M_9hE2"
   },
   "outputs": [],
   "source": [
    "# Model compilation\n",
    "model.compile(\n",
    "    optimizer='adam',\n",
    "    loss='sparse_categorical_crossentropy',\n",
    "    metrics=['accuracy']\n",
    ")"
   ]
  },
  {
   "cell_type": "markdown",
   "metadata": {
    "id": "7XI0j1Iu9hE2"
   },
   "source": [
    "# Model training"
   ]
  },
  {
   "cell_type": "code",
   "execution_count": 11,
   "metadata": {
    "colab": {
     "base_uri": "https://localhost:8080/"
    },
    "id": "WirBl-JE9hE3",
    "outputId": "71b30ca2-8294-4d9d-8aa2-800d90d399de",
    "scrolled": true
   },
   "outputs": [
    {
     "name": "stdout",
     "output_type": "stream",
     "text": [
      "Epoch 1/1000\n",
      "194/200 [============================>.] - ETA: 0s - loss: 3.1472 - accuracy: 0.1172\n",
      "Epoch 1: saving model to model/keypoint_classifier\\keypoint_classifier.hdf5\n",
      "200/200 [==============================] - 2s 7ms/step - loss: 3.1395 - accuracy: 0.1183 - val_loss: 2.6582 - val_accuracy: 0.2153\n",
      "Epoch 2/1000\n",
      "195/200 [============================>.] - ETA: 0s - loss: 2.5167 - accuracy: 0.2216\n",
      "Epoch 2: saving model to model/keypoint_classifier\\keypoint_classifier.hdf5\n",
      "200/200 [==============================] - 1s 5ms/step - loss: 2.5103 - accuracy: 0.2228 - val_loss: 1.8632 - val_accuracy: 0.4572\n",
      "Epoch 3/1000\n",
      "191/200 [===========================>..] - ETA: 0s - loss: 2.1223 - accuracy: 0.3034\n",
      "Epoch 3: saving model to model/keypoint_classifier\\keypoint_classifier.hdf5\n",
      "200/200 [==============================] - 1s 6ms/step - loss: 2.1181 - accuracy: 0.3050 - val_loss: 1.5243 - val_accuracy: 0.5463\n",
      "Epoch 4/1000\n",
      "192/200 [===========================>..] - ETA: 0s - loss: 1.9569 - accuracy: 0.3457\n",
      "Epoch 4: saving model to model/keypoint_classifier\\keypoint_classifier.hdf5\n",
      "200/200 [==============================] - 1s 6ms/step - loss: 1.9541 - accuracy: 0.3468 - val_loss: 1.3641 - val_accuracy: 0.5905\n",
      "Epoch 5/1000\n",
      "194/200 [============================>.] - ETA: 0s - loss: 1.8556 - accuracy: 0.3745\n",
      "Epoch 5: saving model to model/keypoint_classifier\\keypoint_classifier.hdf5\n",
      "200/200 [==============================] - 1s 7ms/step - loss: 1.8544 - accuracy: 0.3750 - val_loss: 1.2709 - val_accuracy: 0.6600\n",
      "Epoch 6/1000\n",
      "194/200 [============================>.] - ETA: 0s - loss: 1.7916 - accuracy: 0.3907\n",
      "Epoch 6: saving model to model/keypoint_classifier\\keypoint_classifier.hdf5\n",
      "200/200 [==============================] - 1s 7ms/step - loss: 1.7930 - accuracy: 0.3906 - val_loss: 1.1962 - val_accuracy: 0.6565\n",
      "Epoch 7/1000\n",
      "194/200 [============================>.] - ETA: 0s - loss: 1.7450 - accuracy: 0.4106\n",
      "Epoch 7: saving model to model/keypoint_classifier\\keypoint_classifier.hdf5\n",
      "200/200 [==============================] - 1s 7ms/step - loss: 1.7443 - accuracy: 0.4107 - val_loss: 1.1508 - val_accuracy: 0.6995\n",
      "Epoch 8/1000\n",
      "197/200 [============================>.] - ETA: 0s - loss: 1.7073 - accuracy: 0.4241\n",
      "Epoch 8: saving model to model/keypoint_classifier\\keypoint_classifier.hdf5\n",
      "200/200 [==============================] - 1s 7ms/step - loss: 1.7072 - accuracy: 0.4239 - val_loss: 1.1112 - val_accuracy: 0.7165\n",
      "Epoch 9/1000\n",
      "194/200 [============================>.] - ETA: 0s - loss: 1.6755 - accuracy: 0.4339\n",
      "Epoch 9: saving model to model/keypoint_classifier\\keypoint_classifier.hdf5\n",
      "200/200 [==============================] - 1s 7ms/step - loss: 1.6754 - accuracy: 0.4332 - val_loss: 1.0764 - val_accuracy: 0.7298\n",
      "Epoch 10/1000\n",
      "193/200 [===========================>..] - ETA: 0s - loss: 1.6410 - accuracy: 0.4465\n",
      "Epoch 10: saving model to model/keypoint_classifier\\keypoint_classifier.hdf5\n",
      "200/200 [==============================] - 1s 7ms/step - loss: 1.6395 - accuracy: 0.4469 - val_loss: 1.0405 - val_accuracy: 0.7423\n",
      "Epoch 11/1000\n",
      "193/200 [===========================>..] - ETA: 0s - loss: 1.6368 - accuracy: 0.4508\n",
      "Epoch 11: saving model to model/keypoint_classifier\\keypoint_classifier.hdf5\n",
      "200/200 [==============================] - 1s 7ms/step - loss: 1.6377 - accuracy: 0.4500 - val_loss: 1.0273 - val_accuracy: 0.7368\n",
      "Epoch 12/1000\n",
      "192/200 [===========================>..] - ETA: 0s - loss: 1.6005 - accuracy: 0.4587\n",
      "Epoch 12: saving model to model/keypoint_classifier\\keypoint_classifier.hdf5\n",
      "200/200 [==============================] - 1s 7ms/step - loss: 1.6007 - accuracy: 0.4583 - val_loss: 0.9872 - val_accuracy: 0.7518\n",
      "Epoch 13/1000\n",
      "193/200 [===========================>..] - ETA: 0s - loss: 1.5926 - accuracy: 0.4619\n",
      "Epoch 13: saving model to model/keypoint_classifier\\keypoint_classifier.hdf5\n",
      "200/200 [==============================] - 1s 7ms/step - loss: 1.5919 - accuracy: 0.4620 - val_loss: 0.9710 - val_accuracy: 0.7495\n",
      "Epoch 14/1000\n",
      "200/200 [==============================] - ETA: 0s - loss: 1.5708 - accuracy: 0.4723\n",
      "Epoch 14: saving model to model/keypoint_classifier\\keypoint_classifier.hdf5\n",
      "200/200 [==============================] - 1s 7ms/step - loss: 1.5708 - accuracy: 0.4723 - val_loss: 0.9385 - val_accuracy: 0.7777\n",
      "Epoch 15/1000\n",
      "195/200 [============================>.] - ETA: 0s - loss: 1.5603 - accuracy: 0.4770\n",
      "Epoch 15: saving model to model/keypoint_classifier\\keypoint_classifier.hdf5\n",
      "200/200 [==============================] - 2s 8ms/step - loss: 1.5599 - accuracy: 0.4776 - val_loss: 0.9237 - val_accuracy: 0.7823\n",
      "Epoch 16/1000\n",
      "198/200 [============================>.] - ETA: 0s - loss: 1.5277 - accuracy: 0.4914\n",
      "Epoch 16: saving model to model/keypoint_classifier\\keypoint_classifier.hdf5\n",
      "200/200 [==============================] - 1s 7ms/step - loss: 1.5283 - accuracy: 0.4913 - val_loss: 0.9085 - val_accuracy: 0.7536\n",
      "Epoch 17/1000\n",
      "193/200 [===========================>..] - ETA: 0s - loss: 1.5225 - accuracy: 0.4914\n",
      "Epoch 17: saving model to model/keypoint_classifier\\keypoint_classifier.hdf5\n",
      "200/200 [==============================] - 1s 7ms/step - loss: 1.5219 - accuracy: 0.4912 - val_loss: 0.8925 - val_accuracy: 0.7611\n",
      "Epoch 18/1000\n",
      "196/200 [============================>.] - ETA: 0s - loss: 1.5154 - accuracy: 0.4929\n",
      "Epoch 18: saving model to model/keypoint_classifier\\keypoint_classifier.hdf5\n",
      "200/200 [==============================] - 1s 7ms/step - loss: 1.5145 - accuracy: 0.4934 - val_loss: 0.8700 - val_accuracy: 0.8030\n",
      "Epoch 19/1000\n",
      "192/200 [===========================>..] - ETA: 0s - loss: 1.5006 - accuracy: 0.5013\n",
      "Epoch 19: saving model to model/keypoint_classifier\\keypoint_classifier.hdf5\n",
      "200/200 [==============================] - 1s 7ms/step - loss: 1.5006 - accuracy: 0.5007 - val_loss: 0.8457 - val_accuracy: 0.7844\n",
      "Epoch 20/1000\n",
      "196/200 [============================>.] - ETA: 0s - loss: 1.4868 - accuracy: 0.4984\n",
      "Epoch 20: saving model to model/keypoint_classifier\\keypoint_classifier.hdf5\n",
      "200/200 [==============================] - 1s 7ms/step - loss: 1.4871 - accuracy: 0.4982 - val_loss: 0.8297 - val_accuracy: 0.8049\n",
      "Epoch 21/1000\n",
      "200/200 [==============================] - ETA: 0s - loss: 1.4729 - accuracy: 0.5050\n",
      "Epoch 21: saving model to model/keypoint_classifier\\keypoint_classifier.hdf5\n",
      "200/200 [==============================] - 1s 7ms/step - loss: 1.4729 - accuracy: 0.5050 - val_loss: 0.8307 - val_accuracy: 0.7957\n",
      "Epoch 22/1000\n",
      "200/200 [==============================] - ETA: 0s - loss: 1.4661 - accuracy: 0.5123\n",
      "Epoch 22: saving model to model/keypoint_classifier\\keypoint_classifier.hdf5\n",
      "200/200 [==============================] - 1s 7ms/step - loss: 1.4661 - accuracy: 0.5123 - val_loss: 0.8191 - val_accuracy: 0.7898\n",
      "Epoch 23/1000\n",
      "194/200 [============================>.] - ETA: 0s - loss: 1.4499 - accuracy: 0.5128\n",
      "Epoch 23: saving model to model/keypoint_classifier\\keypoint_classifier.hdf5\n",
      "200/200 [==============================] - 1s 7ms/step - loss: 1.4484 - accuracy: 0.5125 - val_loss: 0.8003 - val_accuracy: 0.8001\n",
      "Epoch 24/1000\n",
      "199/200 [============================>.] - ETA: 0s - loss: 1.4407 - accuracy: 0.5170\n",
      "Epoch 24: saving model to model/keypoint_classifier\\keypoint_classifier.hdf5\n",
      "200/200 [==============================] - 1s 7ms/step - loss: 1.4410 - accuracy: 0.5171 - val_loss: 0.7846 - val_accuracy: 0.7876\n",
      "Epoch 25/1000\n",
      "195/200 [============================>.] - ETA: 0s - loss: 1.4368 - accuracy: 0.5171\n",
      "Epoch 25: saving model to model/keypoint_classifier\\keypoint_classifier.hdf5\n",
      "200/200 [==============================] - 1s 7ms/step - loss: 1.4367 - accuracy: 0.5172 - val_loss: 0.7722 - val_accuracy: 0.7957\n",
      "Epoch 26/1000\n",
      "194/200 [============================>.] - ETA: 0s - loss: 1.4248 - accuracy: 0.5195\n",
      "Epoch 26: saving model to model/keypoint_classifier\\keypoint_classifier.hdf5\n",
      "200/200 [==============================] - 2s 8ms/step - loss: 1.4230 - accuracy: 0.5200 - val_loss: 0.7664 - val_accuracy: 0.7902\n",
      "Epoch 27/1000\n",
      "198/200 [============================>.] - ETA: 0s - loss: 1.4066 - accuracy: 0.5265\n",
      "Epoch 27: saving model to model/keypoint_classifier\\keypoint_classifier.hdf5\n",
      "200/200 [==============================] - 1s 7ms/step - loss: 1.4064 - accuracy: 0.5268 - val_loss: 0.7613 - val_accuracy: 0.8092\n"
     ]
    },
    {
     "name": "stdout",
     "output_type": "stream",
     "text": [
      "Epoch 28/1000\n",
      "198/200 [============================>.] - ETA: 0s - loss: 1.4017 - accuracy: 0.5265\n",
      "Epoch 28: saving model to model/keypoint_classifier\\keypoint_classifier.hdf5\n",
      "200/200 [==============================] - 1s 7ms/step - loss: 1.4011 - accuracy: 0.5266 - val_loss: 0.7446 - val_accuracy: 0.8005\n",
      "Epoch 29/1000\n",
      "192/200 [===========================>..] - ETA: 0s - loss: 1.4130 - accuracy: 0.5249\n",
      "Epoch 29: saving model to model/keypoint_classifier\\keypoint_classifier.hdf5\n",
      "200/200 [==============================] - 1s 7ms/step - loss: 1.4129 - accuracy: 0.5245 - val_loss: 0.7455 - val_accuracy: 0.8125\n",
      "Epoch 30/1000\n",
      "195/200 [============================>.] - ETA: 0s - loss: 1.3924 - accuracy: 0.5310\n",
      "Epoch 30: saving model to model/keypoint_classifier\\keypoint_classifier.hdf5\n",
      "200/200 [==============================] - 1s 7ms/step - loss: 1.3911 - accuracy: 0.5311 - val_loss: 0.7253 - val_accuracy: 0.8024\n",
      "Epoch 31/1000\n",
      "200/200 [==============================] - ETA: 0s - loss: 1.4061 - accuracy: 0.5274\n",
      "Epoch 31: saving model to model/keypoint_classifier\\keypoint_classifier.hdf5\n",
      "200/200 [==============================] - 1s 7ms/step - loss: 1.4061 - accuracy: 0.5274 - val_loss: 0.7419 - val_accuracy: 0.8004\n",
      "Epoch 32/1000\n",
      "198/200 [============================>.] - ETA: 0s - loss: 1.3937 - accuracy: 0.5277\n",
      "Epoch 32: saving model to model/keypoint_classifier\\keypoint_classifier.hdf5\n",
      "200/200 [==============================] - 1s 7ms/step - loss: 1.3952 - accuracy: 0.5275 - val_loss: 0.7210 - val_accuracy: 0.8205\n",
      "Epoch 33/1000\n",
      "197/200 [============================>.] - ETA: 0s - loss: 1.3811 - accuracy: 0.5351\n",
      "Epoch 33: saving model to model/keypoint_classifier\\keypoint_classifier.hdf5\n",
      "200/200 [==============================] - 1s 7ms/step - loss: 1.3809 - accuracy: 0.5355 - val_loss: 0.7283 - val_accuracy: 0.8195\n",
      "Epoch 34/1000\n",
      "198/200 [============================>.] - ETA: 0s - loss: 1.3838 - accuracy: 0.5329\n",
      "Epoch 34: saving model to model/keypoint_classifier\\keypoint_classifier.hdf5\n",
      "200/200 [==============================] - 1s 7ms/step - loss: 1.3845 - accuracy: 0.5325 - val_loss: 0.7191 - val_accuracy: 0.8238\n",
      "Epoch 35/1000\n",
      "192/200 [===========================>..] - ETA: 0s - loss: 1.3734 - accuracy: 0.5308\n",
      "Epoch 35: saving model to model/keypoint_classifier\\keypoint_classifier.hdf5\n",
      "200/200 [==============================] - 1s 7ms/step - loss: 1.3741 - accuracy: 0.5306 - val_loss: 0.7199 - val_accuracy: 0.8159\n",
      "Epoch 36/1000\n",
      "197/200 [============================>.] - ETA: 0s - loss: 1.3792 - accuracy: 0.5312\n",
      "Epoch 36: saving model to model/keypoint_classifier\\keypoint_classifier.hdf5\n",
      "200/200 [==============================] - 1s 7ms/step - loss: 1.3788 - accuracy: 0.5315 - val_loss: 0.7058 - val_accuracy: 0.8080\n",
      "Epoch 37/1000\n",
      "194/200 [============================>.] - ETA: 0s - loss: 1.3737 - accuracy: 0.5349\n",
      "Epoch 37: saving model to model/keypoint_classifier\\keypoint_classifier.hdf5\n",
      "200/200 [==============================] - 1s 7ms/step - loss: 1.3749 - accuracy: 0.5342 - val_loss: 0.6980 - val_accuracy: 0.8159\n",
      "Epoch 38/1000\n",
      "195/200 [============================>.] - ETA: 0s - loss: 1.3563 - accuracy: 0.5373\n",
      "Epoch 38: saving model to model/keypoint_classifier\\keypoint_classifier.hdf5\n",
      "200/200 [==============================] - 1s 7ms/step - loss: 1.3570 - accuracy: 0.5372 - val_loss: 0.6934 - val_accuracy: 0.8286\n",
      "Epoch 39/1000\n",
      "196/200 [============================>.] - ETA: 0s - loss: 1.3543 - accuracy: 0.5423\n",
      "Epoch 39: saving model to model/keypoint_classifier\\keypoint_classifier.hdf5\n",
      "200/200 [==============================] - 1s 7ms/step - loss: 1.3540 - accuracy: 0.5421 - val_loss: 0.6876 - val_accuracy: 0.8167\n",
      "Epoch 40/1000\n",
      "197/200 [============================>.] - ETA: 0s - loss: 1.3492 - accuracy: 0.5461\n",
      "Epoch 40: saving model to model/keypoint_classifier\\keypoint_classifier.hdf5\n",
      "200/200 [==============================] - 1s 7ms/step - loss: 1.3506 - accuracy: 0.5460 - val_loss: 0.6819 - val_accuracy: 0.8144\n",
      "Epoch 41/1000\n",
      "193/200 [===========================>..] - ETA: 0s - loss: 1.3603 - accuracy: 0.5375\n",
      "Epoch 41: saving model to model/keypoint_classifier\\keypoint_classifier.hdf5\n",
      "200/200 [==============================] - 1s 7ms/step - loss: 1.3609 - accuracy: 0.5372 - val_loss: 0.6898 - val_accuracy: 0.8225\n",
      "Epoch 42/1000\n",
      "196/200 [============================>.] - ETA: 0s - loss: 1.3528 - accuracy: 0.5399\n",
      "Epoch 42: saving model to model/keypoint_classifier\\keypoint_classifier.hdf5\n",
      "200/200 [==============================] - 1s 7ms/step - loss: 1.3526 - accuracy: 0.5400 - val_loss: 0.6778 - val_accuracy: 0.8376\n",
      "Epoch 43/1000\n",
      "193/200 [===========================>..] - ETA: 0s - loss: 1.3494 - accuracy: 0.5417\n",
      "Epoch 43: saving model to model/keypoint_classifier\\keypoint_classifier.hdf5\n",
      "200/200 [==============================] - 1s 7ms/step - loss: 1.3496 - accuracy: 0.5416 - val_loss: 0.6809 - val_accuracy: 0.8228\n",
      "Epoch 44/1000\n",
      "196/200 [============================>.] - ETA: 0s - loss: 1.3513 - accuracy: 0.5469\n",
      "Epoch 44: saving model to model/keypoint_classifier\\keypoint_classifier.hdf5\n",
      "200/200 [==============================] - 1s 7ms/step - loss: 1.3494 - accuracy: 0.5475 - val_loss: 0.6763 - val_accuracy: 0.8130\n",
      "Epoch 45/1000\n",
      "194/200 [============================>.] - ETA: 0s - loss: 1.3369 - accuracy: 0.5475\n",
      "Epoch 45: saving model to model/keypoint_classifier\\keypoint_classifier.hdf5\n",
      "200/200 [==============================] - 1s 7ms/step - loss: 1.3363 - accuracy: 0.5472 - val_loss: 0.6759 - val_accuracy: 0.8215\n",
      "Epoch 46/1000\n",
      "196/200 [============================>.] - ETA: 0s - loss: 1.3380 - accuracy: 0.5470\n",
      "Epoch 46: saving model to model/keypoint_classifier\\keypoint_classifier.hdf5\n",
      "200/200 [==============================] - 1s 7ms/step - loss: 1.3376 - accuracy: 0.5470 - val_loss: 0.6792 - val_accuracy: 0.8122\n",
      "Epoch 47/1000\n",
      "192/200 [===========================>..] - ETA: 0s - loss: 1.3376 - accuracy: 0.5453\n",
      "Epoch 47: saving model to model/keypoint_classifier\\keypoint_classifier.hdf5\n",
      "200/200 [==============================] - 1s 7ms/step - loss: 1.3376 - accuracy: 0.5455 - val_loss: 0.6844 - val_accuracy: 0.8215\n",
      "Epoch 48/1000\n",
      "196/200 [============================>.] - ETA: 0s - loss: 1.3312 - accuracy: 0.5466\n",
      "Epoch 48: saving model to model/keypoint_classifier\\keypoint_classifier.hdf5\n",
      "200/200 [==============================] - 1s 7ms/step - loss: 1.3300 - accuracy: 0.5465 - val_loss: 0.6678 - val_accuracy: 0.8153\n",
      "Epoch 49/1000\n",
      "192/200 [===========================>..] - ETA: 0s - loss: 1.3148 - accuracy: 0.5523\n",
      "Epoch 49: saving model to model/keypoint_classifier\\keypoint_classifier.hdf5\n",
      "200/200 [==============================] - 2s 8ms/step - loss: 1.3181 - accuracy: 0.5515 - val_loss: 0.6576 - val_accuracy: 0.8282\n",
      "Epoch 50/1000\n",
      "198/200 [============================>.] - ETA: 0s - loss: 1.3224 - accuracy: 0.5550\n",
      "Epoch 50: saving model to model/keypoint_classifier\\keypoint_classifier.hdf5\n",
      "200/200 [==============================] - 1s 7ms/step - loss: 1.3228 - accuracy: 0.5547 - val_loss: 0.6507 - val_accuracy: 0.8198\n",
      "Epoch 51/1000\n",
      "193/200 [===========================>..] - ETA: 0s - loss: 1.3219 - accuracy: 0.5495\n",
      "Epoch 51: saving model to model/keypoint_classifier\\keypoint_classifier.hdf5\n",
      "200/200 [==============================] - 1s 7ms/step - loss: 1.3233 - accuracy: 0.5487 - val_loss: 0.6574 - val_accuracy: 0.8136\n",
      "Epoch 52/1000\n",
      "194/200 [============================>.] - ETA: 0s - loss: 1.3138 - accuracy: 0.5532\n",
      "Epoch 52: saving model to model/keypoint_classifier\\keypoint_classifier.hdf5\n",
      "200/200 [==============================] - 1s 7ms/step - loss: 1.3136 - accuracy: 0.5532 - val_loss: 0.6545 - val_accuracy: 0.8146\n",
      "Epoch 53/1000\n",
      "193/200 [===========================>..] - ETA: 0s - loss: 1.3170 - accuracy: 0.5503\n",
      "Epoch 53: saving model to model/keypoint_classifier\\keypoint_classifier.hdf5\n",
      "200/200 [==============================] - 1s 7ms/step - loss: 1.3189 - accuracy: 0.5497 - val_loss: 0.6481 - val_accuracy: 0.8344\n",
      "Epoch 54/1000\n",
      "196/200 [============================>.] - ETA: 0s - loss: 1.3256 - accuracy: 0.5509\n",
      "Epoch 54: saving model to model/keypoint_classifier\\keypoint_classifier.hdf5\n",
      "200/200 [==============================] - 1s 7ms/step - loss: 1.3243 - accuracy: 0.5513 - val_loss: 0.6515 - val_accuracy: 0.8360\n"
     ]
    },
    {
     "name": "stdout",
     "output_type": "stream",
     "text": [
      "Epoch 55/1000\n",
      "196/200 [============================>.] - ETA: 0s - loss: 1.3161 - accuracy: 0.5548\n",
      "Epoch 55: saving model to model/keypoint_classifier\\keypoint_classifier.hdf5\n",
      "200/200 [==============================] - 1s 7ms/step - loss: 1.3160 - accuracy: 0.5549 - val_loss: 0.6473 - val_accuracy: 0.8276\n",
      "Epoch 56/1000\n",
      "198/200 [============================>.] - ETA: 0s - loss: 1.3170 - accuracy: 0.5539\n",
      "Epoch 56: saving model to model/keypoint_classifier\\keypoint_classifier.hdf5\n",
      "200/200 [==============================] - 1s 7ms/step - loss: 1.3165 - accuracy: 0.5538 - val_loss: 0.6623 - val_accuracy: 0.8371\n",
      "Epoch 57/1000\n",
      "196/200 [============================>.] - ETA: 0s - loss: 1.3112 - accuracy: 0.5555\n",
      "Epoch 57: saving model to model/keypoint_classifier\\keypoint_classifier.hdf5\n",
      "200/200 [==============================] - 1s 7ms/step - loss: 1.3122 - accuracy: 0.5552 - val_loss: 0.6512 - val_accuracy: 0.7990\n",
      "Epoch 58/1000\n",
      "198/200 [============================>.] - ETA: 0s - loss: 1.3107 - accuracy: 0.5569\n",
      "Epoch 58: saving model to model/keypoint_classifier\\keypoint_classifier.hdf5\n",
      "200/200 [==============================] - 1s 7ms/step - loss: 1.3102 - accuracy: 0.5571 - val_loss: 0.6500 - val_accuracy: 0.8363\n",
      "Epoch 59/1000\n",
      "196/200 [============================>.] - ETA: 0s - loss: 1.3168 - accuracy: 0.5520\n",
      "Epoch 59: saving model to model/keypoint_classifier\\keypoint_classifier.hdf5\n",
      "200/200 [==============================] - 1s 7ms/step - loss: 1.3165 - accuracy: 0.5520 - val_loss: 0.6470 - val_accuracy: 0.8322\n",
      "Epoch 60/1000\n",
      "197/200 [============================>.] - ETA: 0s - loss: 1.3051 - accuracy: 0.5586\n",
      "Epoch 60: saving model to model/keypoint_classifier\\keypoint_classifier.hdf5\n",
      "200/200 [==============================] - 2s 8ms/step - loss: 1.3056 - accuracy: 0.5589 - val_loss: 0.6450 - val_accuracy: 0.8229\n",
      "Epoch 61/1000\n",
      "199/200 [============================>.] - ETA: 0s - loss: 1.3027 - accuracy: 0.5564\n",
      "Epoch 61: saving model to model/keypoint_classifier\\keypoint_classifier.hdf5\n",
      "200/200 [==============================] - 1s 7ms/step - loss: 1.3028 - accuracy: 0.5563 - val_loss: 0.6454 - val_accuracy: 0.8331\n",
      "Epoch 62/1000\n",
      "196/200 [============================>.] - ETA: 0s - loss: 1.2925 - accuracy: 0.5634\n",
      "Epoch 62: saving model to model/keypoint_classifier\\keypoint_classifier.hdf5\n",
      "200/200 [==============================] - 1s 7ms/step - loss: 1.2916 - accuracy: 0.5634 - val_loss: 0.6427 - val_accuracy: 0.8181\n",
      "Epoch 63/1000\n",
      "199/200 [============================>.] - ETA: 0s - loss: 1.3027 - accuracy: 0.5607\n",
      "Epoch 63: saving model to model/keypoint_classifier\\keypoint_classifier.hdf5\n",
      "200/200 [==============================] - 1s 7ms/step - loss: 1.3031 - accuracy: 0.5605 - val_loss: 0.6446 - val_accuracy: 0.8324\n",
      "Epoch 64/1000\n",
      "198/200 [============================>.] - ETA: 0s - loss: 1.3040 - accuracy: 0.5569\n",
      "Epoch 64: saving model to model/keypoint_classifier\\keypoint_classifier.hdf5\n",
      "200/200 [==============================] - 1s 7ms/step - loss: 1.3036 - accuracy: 0.5572 - val_loss: 0.6395 - val_accuracy: 0.8323\n",
      "Epoch 65/1000\n",
      "194/200 [============================>.] - ETA: 0s - loss: 1.3018 - accuracy: 0.5575\n",
      "Epoch 65: saving model to model/keypoint_classifier\\keypoint_classifier.hdf5\n",
      "200/200 [==============================] - 1s 7ms/step - loss: 1.3034 - accuracy: 0.5564 - val_loss: 0.6355 - val_accuracy: 0.8303\n",
      "Epoch 66/1000\n",
      "198/200 [============================>.] - ETA: 0s - loss: 1.2964 - accuracy: 0.5637\n",
      "Epoch 66: saving model to model/keypoint_classifier\\keypoint_classifier.hdf5\n",
      "200/200 [==============================] - 1s 7ms/step - loss: 1.2967 - accuracy: 0.5636 - val_loss: 0.6329 - val_accuracy: 0.8184\n",
      "Epoch 67/1000\n",
      "198/200 [============================>.] - ETA: 0s - loss: 1.2915 - accuracy: 0.5665\n",
      "Epoch 67: saving model to model/keypoint_classifier\\keypoint_classifier.hdf5\n",
      "200/200 [==============================] - 1s 7ms/step - loss: 1.2906 - accuracy: 0.5664 - val_loss: 0.6317 - val_accuracy: 0.8481\n",
      "Epoch 68/1000\n",
      "196/200 [============================>.] - ETA: 0s - loss: 1.2918 - accuracy: 0.5575\n",
      "Epoch 68: saving model to model/keypoint_classifier\\keypoint_classifier.hdf5\n",
      "200/200 [==============================] - 1s 7ms/step - loss: 1.2920 - accuracy: 0.5581 - val_loss: 0.6499 - val_accuracy: 0.8115\n",
      "Epoch 69/1000\n",
      "197/200 [============================>.] - ETA: 0s - loss: 1.2840 - accuracy: 0.5656\n",
      "Epoch 69: saving model to model/keypoint_classifier\\keypoint_classifier.hdf5\n",
      "200/200 [==============================] - 1s 7ms/step - loss: 1.2842 - accuracy: 0.5656 - val_loss: 0.6468 - val_accuracy: 0.8215\n",
      "Epoch 70/1000\n",
      "194/200 [============================>.] - ETA: 0s - loss: 1.2839 - accuracy: 0.5647\n",
      "Epoch 70: saving model to model/keypoint_classifier\\keypoint_classifier.hdf5\n",
      "200/200 [==============================] - 1s 7ms/step - loss: 1.2864 - accuracy: 0.5638 - val_loss: 0.6321 - val_accuracy: 0.8262\n",
      "Epoch 71/1000\n",
      "195/200 [============================>.] - ETA: 0s - loss: 1.2833 - accuracy: 0.5670\n",
      "Epoch 71: saving model to model/keypoint_classifier\\keypoint_classifier.hdf5\n",
      "200/200 [==============================] - 2s 8ms/step - loss: 1.2861 - accuracy: 0.5661 - val_loss: 0.6233 - val_accuracy: 0.8405\n",
      "Epoch 72/1000\n",
      "192/200 [===========================>..] - ETA: 0s - loss: 1.2919 - accuracy: 0.5616\n",
      "Epoch 72: saving model to model/keypoint_classifier\\keypoint_classifier.hdf5\n",
      "200/200 [==============================] - 1s 7ms/step - loss: 1.2896 - accuracy: 0.5620 - val_loss: 0.6173 - val_accuracy: 0.8213\n",
      "Epoch 73/1000\n",
      "192/200 [===========================>..] - ETA: 0s - loss: 1.2778 - accuracy: 0.5699\n",
      "Epoch 73: saving model to model/keypoint_classifier\\keypoint_classifier.hdf5\n",
      "200/200 [==============================] - 1s 7ms/step - loss: 1.2788 - accuracy: 0.5694 - val_loss: 0.6414 - val_accuracy: 0.8146\n",
      "Epoch 74/1000\n",
      "191/200 [===========================>..] - ETA: 0s - loss: 1.2751 - accuracy: 0.5661\n",
      "Epoch 74: saving model to model/keypoint_classifier\\keypoint_classifier.hdf5\n",
      "200/200 [==============================] - 1s 7ms/step - loss: 1.2756 - accuracy: 0.5652 - val_loss: 0.6384 - val_accuracy: 0.8159\n",
      "Epoch 75/1000\n",
      "195/200 [============================>.] - ETA: 0s - loss: 1.2824 - accuracy: 0.5647\n",
      "Epoch 75: saving model to model/keypoint_classifier\\keypoint_classifier.hdf5\n",
      "200/200 [==============================] - 1s 7ms/step - loss: 1.2830 - accuracy: 0.5645 - val_loss: 0.6275 - val_accuracy: 0.8221\n",
      "Epoch 76/1000\n",
      "198/200 [============================>.] - ETA: 0s - loss: 1.2879 - accuracy: 0.5660\n",
      "Epoch 76: saving model to model/keypoint_classifier\\keypoint_classifier.hdf5\n",
      "200/200 [==============================] - 1s 7ms/step - loss: 1.2887 - accuracy: 0.5658 - val_loss: 0.6474 - val_accuracy: 0.8255\n",
      "Epoch 77/1000\n",
      "192/200 [===========================>..] - ETA: 0s - loss: 1.2806 - accuracy: 0.5680\n",
      "Epoch 77: saving model to model/keypoint_classifier\\keypoint_classifier.hdf5\n",
      "200/200 [==============================] - 1s 7ms/step - loss: 1.2801 - accuracy: 0.5676 - val_loss: 0.6363 - val_accuracy: 0.8155\n",
      "Epoch 78/1000\n",
      "200/200 [==============================] - ETA: 0s - loss: 1.2797 - accuracy: 0.5705\n",
      "Epoch 78: saving model to model/keypoint_classifier\\keypoint_classifier.hdf5\n",
      "200/200 [==============================] - 1s 7ms/step - loss: 1.2797 - accuracy: 0.5705 - val_loss: 0.6503 - val_accuracy: 0.8153\n",
      "Epoch 79/1000\n",
      "195/200 [============================>.] - ETA: 0s - loss: 1.2749 - accuracy: 0.5667\n",
      "Epoch 79: saving model to model/keypoint_classifier\\keypoint_classifier.hdf5\n",
      "200/200 [==============================] - 1s 7ms/step - loss: 1.2755 - accuracy: 0.5667 - val_loss: 0.6351 - val_accuracy: 0.8136\n",
      "Epoch 80/1000\n",
      "196/200 [============================>.] - ETA: 0s - loss: 1.2651 - accuracy: 0.5757\n",
      "Epoch 80: saving model to model/keypoint_classifier\\keypoint_classifier.hdf5\n",
      "200/200 [==============================] - 1s 7ms/step - loss: 1.2673 - accuracy: 0.5749 - val_loss: 0.6287 - val_accuracy: 0.8179\n",
      "Epoch 81/1000\n",
      "194/200 [============================>.] - ETA: 0s - loss: 1.2640 - accuracy: 0.5681\n",
      "Epoch 81: saving model to model/keypoint_classifier\\keypoint_classifier.hdf5\n",
      "200/200 [==============================] - 1s 7ms/step - loss: 1.2652 - accuracy: 0.5681 - val_loss: 0.6266 - val_accuracy: 0.8339\n"
     ]
    },
    {
     "name": "stdout",
     "output_type": "stream",
     "text": [
      "Epoch 82/1000\n",
      "196/200 [============================>.] - ETA: 0s - loss: 1.2809 - accuracy: 0.5671\n",
      "Epoch 82: saving model to model/keypoint_classifier\\keypoint_classifier.hdf5\n",
      "200/200 [==============================] - 1s 7ms/step - loss: 1.2798 - accuracy: 0.5678 - val_loss: 0.6338 - val_accuracy: 0.8366\n",
      "Epoch 83/1000\n",
      "196/200 [============================>.] - ETA: 0s - loss: 1.2713 - accuracy: 0.5667\n",
      "Epoch 83: saving model to model/keypoint_classifier\\keypoint_classifier.hdf5\n",
      "200/200 [==============================] - 1s 7ms/step - loss: 1.2716 - accuracy: 0.5669 - val_loss: 0.6267 - val_accuracy: 0.8403\n",
      "Epoch 84/1000\n",
      "198/200 [============================>.] - ETA: 0s - loss: 1.2704 - accuracy: 0.5709\n",
      "Epoch 84: saving model to model/keypoint_classifier\\keypoint_classifier.hdf5\n",
      "200/200 [==============================] - 1s 7ms/step - loss: 1.2704 - accuracy: 0.5708 - val_loss: 0.6256 - val_accuracy: 0.8254\n",
      "Epoch 85/1000\n",
      "199/200 [============================>.] - ETA: 0s - loss: 1.2658 - accuracy: 0.5709\n",
      "Epoch 85: saving model to model/keypoint_classifier\\keypoint_classifier.hdf5\n",
      "200/200 [==============================] - 1s 7ms/step - loss: 1.2655 - accuracy: 0.5711 - val_loss: 0.6218 - val_accuracy: 0.8346\n",
      "Epoch 86/1000\n",
      "199/200 [============================>.] - ETA: 0s - loss: 1.2611 - accuracy: 0.5733\n",
      "Epoch 86: saving model to model/keypoint_classifier\\keypoint_classifier.hdf5\n",
      "200/200 [==============================] - 1s 7ms/step - loss: 1.2608 - accuracy: 0.5736 - val_loss: 0.6326 - val_accuracy: 0.8223\n",
      "Epoch 87/1000\n",
      "195/200 [============================>.] - ETA: 0s - loss: 1.2740 - accuracy: 0.5657\n",
      "Epoch 87: saving model to model/keypoint_classifier\\keypoint_classifier.hdf5\n",
      "200/200 [==============================] - 1s 7ms/step - loss: 1.2721 - accuracy: 0.5670 - val_loss: 0.6337 - val_accuracy: 0.8293\n",
      "Epoch 88/1000\n",
      "194/200 [============================>.] - ETA: 0s - loss: 1.2655 - accuracy: 0.5702\n",
      "Epoch 88: saving model to model/keypoint_classifier\\keypoint_classifier.hdf5\n",
      "200/200 [==============================] - 1s 7ms/step - loss: 1.2659 - accuracy: 0.5708 - val_loss: 0.6333 - val_accuracy: 0.8298\n",
      "Epoch 89/1000\n",
      "195/200 [============================>.] - ETA: 0s - loss: 1.2639 - accuracy: 0.5734\n",
      "Epoch 89: saving model to model/keypoint_classifier\\keypoint_classifier.hdf5\n",
      "200/200 [==============================] - 1s 7ms/step - loss: 1.2646 - accuracy: 0.5725 - val_loss: 0.6178 - val_accuracy: 0.8418\n",
      "Epoch 90/1000\n",
      "196/200 [============================>.] - ETA: 0s - loss: 1.2593 - accuracy: 0.5758\n",
      "Epoch 90: saving model to model/keypoint_classifier\\keypoint_classifier.hdf5\n",
      "200/200 [==============================] - 1s 7ms/step - loss: 1.2604 - accuracy: 0.5755 - val_loss: 0.6251 - val_accuracy: 0.8222\n",
      "Epoch 91/1000\n",
      "194/200 [============================>.] - ETA: 0s - loss: 1.2616 - accuracy: 0.5745\n",
      "Epoch 91: saving model to model/keypoint_classifier\\keypoint_classifier.hdf5\n",
      "200/200 [==============================] - 1s 7ms/step - loss: 1.2602 - accuracy: 0.5746 - val_loss: 0.6402 - val_accuracy: 0.8218\n",
      "Epoch 92/1000\n",
      "193/200 [===========================>..] - ETA: 0s - loss: 1.2561 - accuracy: 0.5765\n",
      "Epoch 92: saving model to model/keypoint_classifier\\keypoint_classifier.hdf5\n",
      "200/200 [==============================] - 1s 7ms/step - loss: 1.2567 - accuracy: 0.5763 - val_loss: 0.6319 - val_accuracy: 0.8167\n",
      "Epoch 92: early stopping\n"
     ]
    },
    {
     "data": {
      "text/plain": [
       "<keras.callbacks.History at 0x18d83067a30>"
      ]
     },
     "execution_count": 11,
     "metadata": {},
     "output_type": "execute_result"
    }
   ],
   "source": [
    "model.fit(\n",
    "    X_train,\n",
    "    y_train,\n",
    "    epochs=1000,\n",
    "    batch_size=128,\n",
    "    validation_data=(X_test, y_test),\n",
    "    callbacks=[cp_callback, es_callback]\n",
    ")"
   ]
  },
  {
   "cell_type": "code",
   "execution_count": 12,
   "metadata": {
    "colab": {
     "base_uri": "https://localhost:8080/"
    },
    "id": "pxvb2Y299hE3",
    "outputId": "59eb3185-2e37-4b9e-bc9d-ab1b8ac29b7f"
   },
   "outputs": [
    {
     "name": "stdout",
     "output_type": "stream",
     "text": [
      "67/67 [==============================] - 0s 4ms/step - loss: 0.6319 - accuracy: 0.8167\n"
     ]
    }
   ],
   "source": [
    "# Model evaluation\n",
    "val_loss, val_acc = model.evaluate(X_test, y_test, batch_size=128)"
   ]
  },
  {
   "cell_type": "code",
   "execution_count": 13,
   "metadata": {
    "id": "RBkmDeUW9hE4"
   },
   "outputs": [],
   "source": [
    "# Loading the saved model\n",
    "model = tf.keras.models.load_model(model_save_path)"
   ]
  },
  {
   "cell_type": "code",
   "execution_count": 14,
   "metadata": {
    "colab": {
     "base_uri": "https://localhost:8080/"
    },
    "id": "tFz9Tb0I9hE4",
    "outputId": "1c3b3528-54ae-4ee2-ab04-77429211cbef"
   },
   "outputs": [
    {
     "name": "stdout",
     "output_type": "stream",
     "text": [
      "1/1 [==============================] - 0s 97ms/step\n",
      "[5.1127691e-03 1.2502964e-03 1.5022528e-03 5.0513045e-05 3.6599245e-03\n",
      " 8.4774960e-03 6.1747065e-04 2.8733756e-02 2.3974907e-03 4.6675891e-06\n",
      " 5.0371792e-03 2.8273763e-04 4.4017833e-02 3.3089502e-05 6.1752384e-05\n",
      " 3.4170562e-01 2.5176443e-04 2.9544276e-04 2.9411332e-05 7.0349597e-05\n",
      " 1.4793236e-03 8.5807706e-06 9.3393005e-02 9.7307820e-06 2.7569484e-05\n",
      " 1.8578756e-01 2.4843746e-01 2.6635190e-02 6.2972814e-04]\n",
      "15\n"
     ]
    }
   ],
   "source": [
    "# Inference test\n",
    "predict_result = model.predict(np.array([X_test[0]]))\n",
    "print(np.squeeze(predict_result))\n",
    "print(np.argmax(np.squeeze(predict_result)))"
   ]
  },
  {
   "cell_type": "markdown",
   "metadata": {
    "id": "S3U4yNWx9hE4"
   },
   "source": [
    "# Confusion matrix"
   ]
  },
  {
   "cell_type": "code",
   "execution_count": 15,
   "metadata": {
    "colab": {
     "base_uri": "https://localhost:8080/",
     "height": 582
    },
    "id": "AP1V6SCk9hE5",
    "outputId": "08e41a80-7a4a-4619-8125-ecc371368d19"
   },
   "outputs": [
    {
     "name": "stdout",
     "output_type": "stream",
     "text": [
      "267/267 [==============================] - 1s 3ms/step\n"
     ]
    },
    {
     "data": {
      "image/png": "[encoded data removed]",
      "text/plain": [
       "<Figure size 700x600 with 2 Axes>"
      ]
     },
     "metadata": {},
     "output_type": "display_data"
    },
    {
     "name": "stdout",
     "output_type": "stream",
     "text": [
      "Classification Report\n",
      "              precision    recall  f1-score   support\n",
      "\n",
      "           0       0.91      0.50      0.65       362\n",
      "           1       0.80      0.37      0.50       377\n",
      "           2       0.70      0.60      0.65       347\n",
      "           3       0.73      0.56      0.63        81\n",
      "           4       0.77      0.60      0.68       290\n",
      "           5       0.89      0.86      0.88       482\n",
      "           6       0.89      0.98      0.94       295\n",
      "           7       0.96      0.99      0.97       474\n",
      "           8       0.77      0.99      0.87       426\n",
      "           9       0.95      1.00      0.97       276\n",
      "          10       0.82      0.89      0.85       497\n",
      "          11       0.96      1.00      0.98       541\n",
      "          12       0.93      1.00      0.97       305\n",
      "          13       0.91      0.96      0.93       328\n",
      "          14       0.95      0.91      0.93       384\n",
      "          15       0.74      0.11      0.19       252\n",
      "          16       0.85      1.00      0.92       186\n",
      "          17       0.93      0.87      0.90       238\n",
      "          18       0.80      0.90      0.85       256\n",
      "          19       0.92      1.00      0.96       220\n",
      "          20       0.63      0.99      0.77       197\n",
      "          21       0.87      0.51      0.64       152\n",
      "          22       0.83      0.03      0.06       170\n",
      "          23       0.90      0.94      0.92       192\n",
      "          24       0.73      0.99      0.84       161\n",
      "          25       0.41      1.00      0.58       336\n",
      "          26       0.77      0.39      0.51       220\n",
      "          27       0.99      1.00      0.99       222\n",
      "          28       0.81      1.00      0.89       259\n",
      "\n",
      "    accuracy                           0.82      8526\n",
      "   macro avg       0.83      0.79      0.77      8526\n",
      "weighted avg       0.84      0.82      0.80      8526\n",
      "\n"
     ]
    }
   ],
   "source": [
    "import pandas as pd\n",
    "import seaborn as sns\n",
    "import matplotlib.pyplot as plt\n",
    "from sklearn.metrics import confusion_matrix, classification_report\n",
    "\n",
    "def print_confusion_matrix(y_true, y_pred, report=True):\n",
    "    labels = sorted(list(set(y_true)))\n",
    "    cmx_data = confusion_matrix(y_true, y_pred, labels=labels)\n",
    "    \n",
    "    df_cmx = pd.DataFrame(cmx_data, index=labels, columns=labels)\n",
    " \n",
    "    fig, ax = plt.subplots(figsize=(7, 6))\n",
    "    sns.heatmap(df_cmx, annot=True, fmt='g' ,square=False)\n",
    "    ax.set_ylim(len(set(y_true)), 0)\n",
    "    plt.show()\n",
    "    \n",
    "    if report:\n",
    "        print('Classification Report')\n",
    "        print(classification_report(y_test, y_pred))\n",
    "\n",
    "Y_pred = model.predict(X_test)\n",
    "y_pred = np.argmax(Y_pred, axis=1)\n",
    "\n",
    "print_confusion_matrix(y_test, y_pred)"
   ]
  },
  {
   "cell_type": "markdown",
   "metadata": {
    "id": "FNP6aqzc9hE5"
   },
   "source": [
    "# Convert to model for Tensorflow-Lite"
   ]
  },
  {
   "cell_type": "code",
   "execution_count": 16,
   "metadata": {
    "id": "ODjnYyld9hE6"
   },
   "outputs": [],
   "source": [
    "# Save as a model dedicated to inference\n",
    "model.save(model_save_path, include_optimizer=False)"
   ]
  },
  {
   "cell_type": "code",
   "execution_count": 17,
   "metadata": {
    "colab": {
     "base_uri": "https://localhost:8080/"
    },
    "id": "zRfuK8Y59hE6",
    "outputId": "a4ca585c-b5d5-4244-8291-8674063209bb"
   },
   "outputs": [
    {
     "name": "stdout",
     "output_type": "stream",
     "text": [
      "INFO:tensorflow:Assets written to: C:\\Users\\Asus\\AppData\\Local\\Temp\\tmp81tth7cz\\assets\n"
     ]
    },
    {
     "data": {
      "text/plain": [
       "7644"
      ]
     },
     "execution_count": 17,
     "metadata": {},
     "output_type": "execute_result"
    }
   ],
   "source": [
    "# Transform model (quantization)\n",
    "\n",
    "converter = tf.lite.TFLiteConverter.from_keras_model(model)\n",
    "converter.optimizations = [tf.lite.Optimize.DEFAULT]\n",
    "tflite_quantized_model = converter.convert()\n",
    "\n",
    "open(tflite_save_path, 'wb').write(tflite_quantized_model)"
   ]
  },
  {
   "cell_type": "markdown",
   "metadata": {
    "id": "CHBPBXdx9hE6"
   },
   "source": [
    "# Inference test"
   ]
  },
  {
   "cell_type": "code",
   "execution_count": 18,
   "metadata": {
    "id": "mGAzLocO9hE7"
   },
   "outputs": [],
   "source": [
    "interpreter = tf.lite.Interpreter(model_path=tflite_save_path)\n",
    "interpreter.allocate_tensors()"
   ]
  },
  {
   "cell_type": "code",
   "execution_count": 19,
   "metadata": {
    "id": "oQuDK8YS9hE7"
   },
   "outputs": [],
   "source": [
    "# Get I / O tensor\n",
    "input_details = interpreter.get_input_details()\n",
    "output_details = interpreter.get_output_details()"
   ]
  },
  {
   "cell_type": "code",
   "execution_count": 20,
   "metadata": {
    "id": "2_ixAf_l9hE7"
   },
   "outputs": [],
   "source": [
    "interpreter.set_tensor(input_details[0]['index'], np.array([X_test[0]]))"
   ]
  },
  {
   "cell_type": "code",
   "execution_count": 21,
   "metadata": {
    "colab": {
     "base_uri": "https://localhost:8080/"
    },
    "id": "s4FoAnuc9hE7",
    "outputId": "91f18257-8d8b-4ef3-c558-e9b5f94fabbf",
    "scrolled": true
   },
   "outputs": [
    {
     "name": "stdout",
     "output_type": "stream",
     "text": [
      "CPU times: total: 0 ns\n",
      "Wall time: 0 ns\n"
     ]
    }
   ],
   "source": [
    "%%time\n",
    "# Inference implementation\n",
    "interpreter.invoke()\n",
    "tflite_results = interpreter.get_tensor(output_details[0]['index'])"
   ]
  },
  {
   "cell_type": "code",
   "execution_count": 22,
   "metadata": {
    "colab": {
     "base_uri": "https://localhost:8080/"
    },
    "id": "vONjp19J9hE8",
    "outputId": "77205e24-fd00-42c4-f7b6-e06e527c2cba"
   },
   "outputs": [
    {
     "name": "stdout",
     "output_type": "stream",
     "text": [
      "[5.1127691e-03 1.2502952e-03 1.5022506e-03 5.0513019e-05 3.6599215e-03\n",
      " 8.4774988e-03 6.1747036e-04 2.8733710e-02 2.3974895e-03 4.6675823e-06\n",
      " 5.0371788e-03 2.8273626e-04 4.4017736e-02 3.3089487e-05 6.1752369e-05\n",
      " 3.4170580e-01 2.5176408e-04 2.9544244e-04 2.9411287e-05 7.0349561e-05\n",
      " 1.4793213e-03 8.5807578e-06 9.3392991e-02 9.7307593e-06 2.7569473e-05\n",
      " 1.8578766e-01 2.4843743e-01 2.6635198e-02 6.2972755e-04]\n",
      "15\n"
     ]
    }
   ],
   "source": [
    "print(np.squeeze(tflite_results))\n",
    "print(np.argmax(np.squeeze(tflite_results)))"
   ]
  }
 ],
 "metadata": {
  "accelerator": "GPU",
  "colab": {
   "collapsed_sections": [],
   "name": "keypoint_classification_EN.ipynb",
   "provenance": [],
   "toc_visible": true
  },
  "kernelspec": {
   "display_name": "Python 3 (ipykernel)",
   "language": "python",
   "name": "python3"
  },
  "language_info": {
   "codemirror_mode": {
    "name": "ipython",
    "version": 3
   },
   "file_extension": ".py",
   "mimetype": "text/x-python",
   "name": "python",
   "nbconvert_exporter": "python",
   "pygments_lexer": "ipython3",
   "version": "3.9.0"
  }
 },
 "nbformat": 4,
 "nbformat_minor": 1
}
